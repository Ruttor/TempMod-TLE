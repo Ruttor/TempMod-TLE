{
 "cells": [
  {
   "cell_type": "code",
   "execution_count": 2,
   "metadata": {},
   "outputs": [],
   "source": [
    "import numpy as np"
   ]
  },
  {
   "cell_type": "code",
   "execution_count": 3,
   "metadata": {},
   "outputs": [
    {
     "name": "stdout",
     "output_type": "stream",
     "text": [
      "Quelle spez. Wärmekapazität: 0.13232388256920208\n",
      "Quelle Strahlung: 4.007886827817178e-13\n",
      "Laserleistung: variabel\n",
      "Substrat spez. Wärmekapazität: 3.7024507448679236\n",
      "Substrat Absorption: TODO\n",
      "Substrat Strahlung: 4.5968502503724986e-10\n",
      "Wachstumsexponent: 51118.59514072649\n",
      "VWL Größenfaktor: 1.3199373634299525e+18\n",
      "Wärmeleitfähigkeit: 0.00102494460323367\n"
     ]
    }
   ],
   "source": [
    "# Wachstumsfaktoren\n",
    "P_0 = 0.49  # Druck P_0 in Pascal\n",
    "r = 1.5e-3  # Radius in Metern\n",
    "A = np.pi * r**2  # Oberfläche in m^2\n",
    "Delta_Hvap = 425e3  # Verdampfungsenthalpie in J/mol\n",
    "m = 47.8e-3 / 6.022e23  # Masse eines Moleküls in kg (umgewandelt von u)\n",
    "k_B = 1.380649e-23  # Boltzmann-Konstante in J/K\n",
    "R = 8.314  # Gaskonstante in J/(mol*K)\n",
    "sigma = 5.67e-8  # Stefan-Boltzmann-Konstante in W/(m^2*K^4)\n",
    "\n",
    "lambda_Ti = 21.9  # Wärmeleitfähigkeit in W/(m*K)\n",
    "lambda_Si = 145  # Wärmeleitfähigkeit in W/(m*K)\n",
    "c_Ti = 520 # Wärmekapazität in J/(kg*K)\n",
    "c_Si = 700 # Wärmekapazität in J/(kg*K)\n",
    "rho_Ti = 4500 # Dichte in kg/m^3\n",
    "rho_Si = 2330 # Dichte in kg/m^3\n",
    "\n",
    "A_Q = np.pi * 0.0015**2 # Oberfläche in m^2\n",
    "A_Sub = np.pi * 0.0508**2 # Oberfläche in m^2\n",
    "V_Q = A_Q* 0.008 # Volumen in m^3\n",
    "V_Sub = A_Sub * 280e-6 # Volumen in m^3\n",
    "m_Q = rho_Ti * V_Q # Masse in kg\n",
    "m_Sub = rho_Si * V_Sub # Masse in kg\n",
    "C_Q = c_Ti * m_Q # spez. Wärmekapazität in J/K\n",
    "C_Sub = c_Si * m_Sub # spez. Wärmekapazität in J/K\n",
    "\n",
    "vwl_fac = P_0*A/np.sqrt(2 * np.pi * m * k_B)\n",
    "gr_exp = Delta_Hvap / R\n",
    "\n",
    "source_therm_cap = C_Q\n",
    "source_radiation = sigma * A_Q \n",
    "laser_power = 'variabel'\n",
    "sub_therm_cap = C_Sub\n",
    "sub_absorption = 'TODO'\n",
    "sub_radiation = sigma * A_Sub\n",
    "gr_exp = gr_exp\n",
    "vwl = vwl_fac\n",
    "wl = lambda_Si * A_Q\n",
    "\n",
    "\n",
    "\n",
    "print(f\"Quelle spez. Wärmekapazität: {source_therm_cap}\")\n",
    "print(f\"Quelle Strahlung: {source_radiation}\")\n",
    "print(f\"Laserleistung: {laser_power}\")\n",
    "print(f\"Substrat spez. Wärmekapazität: {sub_therm_cap}\")\n",
    "print(f\"Substrat Absorption: {sub_absorption}\")\n",
    "print(f\"Substrat Strahlung: {sub_radiation}\")\n",
    "print(f\"Wachstumsexponent: {gr_exp}\")\n",
    "print(f\"VWL Größenfaktor: {vwl_fac}\")\n",
    "print(f\"Wärmeleitfähigkeit: {wl}\")\n"
   ]
  },
  {
   "cell_type": "code",
   "execution_count": null,
   "metadata": {},
   "outputs": [],
   "source": []
  }
 ],
 "metadata": {
  "kernelspec": {
   "display_name": "a",
   "language": "python",
   "name": "python3"
  },
  "language_info": {
   "codemirror_mode": {
    "name": "ipython",
    "version": 3
   },
   "file_extension": ".py",
   "mimetype": "text/x-python",
   "name": "python",
   "nbconvert_exporter": "python",
   "pygments_lexer": "ipython3",
   "version": "3.11.7"
  }
 },
 "nbformat": 4,
 "nbformat_minor": 2
}
